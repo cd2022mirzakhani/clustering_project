{
 "cells": [
  {
   "cell_type": "markdown",
   "id": "premier-milan",
   "metadata": {},
   "source": [
    "# What's driving logerror?\n",
    "\n",
    "## Project Goals\n",
    "* Identify key features that can be used to create an effective predictive model.\n",
    "* Use regression models to make logerror predictions.\n",
    "* Use findings to make recommendations and establish a foundation for future work to improve model's performance."
   ]
  },
  {
   "cell_type": "markdown",
   "id": "going-assembly",
   "metadata": {},
   "source": [
    "## Imports"
   ]
  },
  {
   "cell_type": "code",
   "execution_count": 1,
   "id": "divided-poster",
   "metadata": {},
   "outputs": [],
   "source": [
    "#list all of the imports I used in this notebook or in a module\n",
    "import pandas as pd\n",
    "import numpy as np\n",
    "import matplotlib.pyplot as plt\n",
    "import seaborn as sns\n",
    "import os\n",
    "from scipy import stats\n",
    "from sklearn.model_selection import train_test_split\n",
    "\n",
    "import warnings\n",
    "warnings.filterwarnings(\"ignore\")\n",
    "from importlib import reload\n",
    "\n",
    "\n",
    "#import my personal modules created for this report\n",
    "import wrangle as w\n",
    "#import explore as e\n",
    "#import model as m"
   ]
  },
  {
   "cell_type": "markdown",
   "id": "criminal-glory",
   "metadata": {},
   "source": [
    "## Acquire\n",
    "\n",
    "* Data acquired from the Codeup mySQL server on November 30, 2022.\n",
    "* It contained 52205 rows and 15 columns\n",
    "* Each observation represents a single-family home where ```latitude```, ```longitude```, and ```yearbuilt``` are NOT NULL\n",
    "* Each column represents a feature of those homes"
   ]
  },
  {
   "cell_type": "code",
   "execution_count": 2,
   "id": "8e7703ef",
   "metadata": {},
   "outputs": [],
   "source": [
    "#import unclean data from Codeup mySQL server\n",
    "zillow_unclean = w.acquire_zillow_data()"
   ]
  },
  {
   "cell_type": "code",
   "execution_count": 3,
   "id": "98f670e0",
   "metadata": {},
   "outputs": [
    {
     "data": {
      "text/plain": [
       "(52205, 15)"
      ]
     },
     "execution_count": 3,
     "metadata": {},
     "output_type": "execute_result"
    }
   ],
   "source": [
    "zillow_unclean.shape"
   ]
  },
  {
   "cell_type": "markdown",
   "id": "impossible-bible",
   "metadata": {},
   "source": [
    "## Prepare\n",
    "\n",
    "#### NULLs to 0\n",
    "* For ```fireplace```, ```deck```, ```pool```, ```garage```, and ```hottub``` it was assumed NULL values indicated it did not exist on property so NULLs were converted to \"0\".\n",
    "\n",
    "#### Created features\n",
    "* ```county``` (names based on the fips code):  \n",
    "    - 6037: LA\n",
    "    - 6059: Orange \n",
    "    - 6111: Ventura \n",
    "* ```2017_age```\n",
    "    - Column diplaying age of house in 2017 (2017-year_built)\n",
    "    \n",
    "#### Dropped rows:\n",
    "* Rows containing null values in any column (< 1% dropped)\n",
    "\n",
    "#### Other prep\n",
    "* Split data into train, validate, and test (65/20/15)\n",
    "\n",
    "\n",
    "***51843 rows before splitting*** "
   ]
  },
  {
   "cell_type": "code",
   "execution_count": 4,
   "id": "0d2a8422",
   "metadata": {
    "scrolled": true
   },
   "outputs": [
    {
     "data": {
      "text/plain": [
       "(51843, 16)"
      ]
     },
     "execution_count": 4,
     "metadata": {},
     "output_type": "execute_result"
    }
   ],
   "source": [
    "#clean data\n",
    "zillow = w.clean_zillow(zillow_unclean)\n",
    "zillow.shape"
   ]
  },
  {
   "cell_type": "code",
   "execution_count": 5,
   "id": "f40167d4",
   "metadata": {},
   "outputs": [
    {
     "name": "stdout",
     "output_type": "stream",
     "text": [
      "<class 'pandas.core.frame.DataFrame'>\n",
      "Int64Index: 51843 entries, 0 to 52204\n",
      "Data columns (total 16 columns):\n",
      " #   Column             Non-Null Count  Dtype  \n",
      "---  ------             --------------  -----  \n",
      " 0   parcelid           51843 non-null  int64  \n",
      " 1   logerror           51843 non-null  float64\n",
      " 2   bathrooms          51843 non-null  float64\n",
      " 3   bedrooms           51843 non-null  float64\n",
      " 4   sqft               51843 non-null  float64\n",
      " 5   latitude           51843 non-null  float64\n",
      " 6   longitude          51843 non-null  float64\n",
      " 7   lotsizesquarefeet  51843 non-null  float64\n",
      " 8   fireplace          51843 non-null  float64\n",
      " 9   deck               51843 non-null  float64\n",
      " 10  pool               51843 non-null  float64\n",
      " 11  garage             51843 non-null  float64\n",
      " 12  hottub             51843 non-null  float64\n",
      " 13  county             51843 non-null  object \n",
      " 14  2017_age           51843 non-null  int64  \n",
      " 15  acres              51843 non-null  float64\n",
      "dtypes: float64(13), int64(2), object(1)\n",
      "memory usage: 6.7+ MB\n"
     ]
    }
   ],
   "source": [
    "zillow.info()"
   ]
  },
  {
   "cell_type": "code",
   "execution_count": 6,
   "id": "b70e0cdc",
   "metadata": {},
   "outputs": [],
   "source": [
    "#split data\n",
    "train, validate, test = w.split_data(zillow)"
   ]
  },
  {
   "cell_type": "markdown",
   "id": "cf54e5e1",
   "metadata": {},
   "source": [
    "### Data dictionary\n",
    "| Feature | Definition | Type |\n",
    "|:--------|:-----------|:-------\n",
    "|**parcelid**| Definition| *int*|\n",
    "| **bathroooms** | The number of bathrooms in the home. |*float*|\n",
    "| **bedrooms** | The number of bedrooms in the home.|*int*|\n",
    "|**sqft**| Square footage of the house| *int*|\n",
    "|**year_built**| Year the house was built| *int*|\n",
    "|**latitude**| | *float*|\n",
    "|**longitude**| | *float*|\n",
    "|**lotsizesquarefeet**| Square footage of the land where the property is located | *float*|\n",
    "|**fireplace**| | *float*|\n",
    "|**deck**| | *float*|\n",
    "|**pool**| | *float*|\n",
    "|**garage**| | *float*|\n",
    "|**hottub**| | *float*|\n",
    "|**county**| Name of the county where the house is located| *string*|\n",
    "|**2017_age**| Age of the house in 2017 (when the data was collected| *int*|\n",
    "|**Target variable**\n",
    "|**logerror**| 𝑙𝑜𝑔𝑒𝑟𝑟𝑜𝑟=𝑙𝑜𝑔(𝑍𝑒𝑠𝑡𝑖𝑚𝑎𝑡𝑒)−𝑙𝑜𝑔(𝑆𝑎𝑙𝑒𝑃𝑟𝑖𝑐𝑒) | *float* |"
   ]
  },
  {
   "cell_type": "markdown",
   "id": "e05229cb",
   "metadata": {},
   "source": [
    "### A look at the data"
   ]
  },
  {
   "cell_type": "code",
   "execution_count": 7,
   "id": "f8f1eb5e",
   "metadata": {
    "scrolled": false
   },
   "outputs": [
    {
     "data": {
      "text/html": [
       "<div>\n",
       "<style scoped>\n",
       "    .dataframe tbody tr th:only-of-type {\n",
       "        vertical-align: middle;\n",
       "    }\n",
       "\n",
       "    .dataframe tbody tr th {\n",
       "        vertical-align: top;\n",
       "    }\n",
       "\n",
       "    .dataframe thead th {\n",
       "        text-align: right;\n",
       "    }\n",
       "</style>\n",
       "<table border=\"1\" class=\"dataframe\">\n",
       "  <thead>\n",
       "    <tr style=\"text-align: right;\">\n",
       "      <th></th>\n",
       "      <th>parcelid</th>\n",
       "      <th>logerror</th>\n",
       "      <th>bathrooms</th>\n",
       "      <th>bedrooms</th>\n",
       "      <th>sqft</th>\n",
       "      <th>latitude</th>\n",
       "      <th>longitude</th>\n",
       "      <th>lotsizesquarefeet</th>\n",
       "      <th>fireplace</th>\n",
       "      <th>deck</th>\n",
       "      <th>pool</th>\n",
       "      <th>garage</th>\n",
       "      <th>hottub</th>\n",
       "      <th>county</th>\n",
       "      <th>2017_age</th>\n",
       "      <th>acres</th>\n",
       "    </tr>\n",
       "  </thead>\n",
       "  <tbody>\n",
       "    <tr>\n",
       "      <th>46729</th>\n",
       "      <td>11669351</td>\n",
       "      <td>0.037351</td>\n",
       "      <td>4.0</td>\n",
       "      <td>4.0</td>\n",
       "      <td>3470.0</td>\n",
       "      <td>34045821.0</td>\n",
       "      <td>-118517058.0</td>\n",
       "      <td>7148.0</td>\n",
       "      <td>0.0</td>\n",
       "      <td>0.0</td>\n",
       "      <td>0.0</td>\n",
       "      <td>0.0</td>\n",
       "      <td>0.0</td>\n",
       "      <td>LA</td>\n",
       "      <td>12</td>\n",
       "      <td>0.164096</td>\n",
       "    </tr>\n",
       "    <tr>\n",
       "      <th>47582</th>\n",
       "      <td>13844703</td>\n",
       "      <td>-0.103982</td>\n",
       "      <td>1.0</td>\n",
       "      <td>3.0</td>\n",
       "      <td>999.0</td>\n",
       "      <td>33728543.0</td>\n",
       "      <td>-117879618.0</td>\n",
       "      <td>6716.0</td>\n",
       "      <td>0.0</td>\n",
       "      <td>0.0</td>\n",
       "      <td>1.0</td>\n",
       "      <td>2.0</td>\n",
       "      <td>0.0</td>\n",
       "      <td>Orange</td>\n",
       "      <td>67</td>\n",
       "      <td>0.154178</td>\n",
       "    </tr>\n",
       "    <tr>\n",
       "      <th>32610</th>\n",
       "      <td>14110023</td>\n",
       "      <td>0.042899</td>\n",
       "      <td>3.0</td>\n",
       "      <td>5.0</td>\n",
       "      <td>1803.0</td>\n",
       "      <td>33825991.0</td>\n",
       "      <td>-118045155.0</td>\n",
       "      <td>6203.0</td>\n",
       "      <td>0.0</td>\n",
       "      <td>0.0</td>\n",
       "      <td>0.0</td>\n",
       "      <td>2.0</td>\n",
       "      <td>0.0</td>\n",
       "      <td>Orange</td>\n",
       "      <td>53</td>\n",
       "      <td>0.142401</td>\n",
       "    </tr>\n",
       "    <tr>\n",
       "      <th>22180</th>\n",
       "      <td>11703748</td>\n",
       "      <td>-0.002878</td>\n",
       "      <td>1.0</td>\n",
       "      <td>2.0</td>\n",
       "      <td>1586.0</td>\n",
       "      <td>34001625.0</td>\n",
       "      <td>-118304436.0</td>\n",
       "      <td>5867.0</td>\n",
       "      <td>0.0</td>\n",
       "      <td>0.0</td>\n",
       "      <td>0.0</td>\n",
       "      <td>0.0</td>\n",
       "      <td>0.0</td>\n",
       "      <td>LA</td>\n",
       "      <td>105</td>\n",
       "      <td>0.134688</td>\n",
       "    </tr>\n",
       "    <tr>\n",
       "      <th>28282</th>\n",
       "      <td>13899266</td>\n",
       "      <td>0.166119</td>\n",
       "      <td>1.0</td>\n",
       "      <td>2.0</td>\n",
       "      <td>902.0</td>\n",
       "      <td>33427590.0</td>\n",
       "      <td>-117617406.0</td>\n",
       "      <td>4600.0</td>\n",
       "      <td>0.0</td>\n",
       "      <td>0.0</td>\n",
       "      <td>0.0</td>\n",
       "      <td>1.0</td>\n",
       "      <td>0.0</td>\n",
       "      <td>Orange</td>\n",
       "      <td>57</td>\n",
       "      <td>0.105601</td>\n",
       "    </tr>\n",
       "  </tbody>\n",
       "</table>\n",
       "</div>"
      ],
      "text/plain": [
       "       parcelid  logerror  bathrooms  bedrooms    sqft    latitude  \\\n",
       "46729  11669351  0.037351        4.0       4.0  3470.0  34045821.0   \n",
       "47582  13844703 -0.103982        1.0       3.0   999.0  33728543.0   \n",
       "32610  14110023  0.042899        3.0       5.0  1803.0  33825991.0   \n",
       "22180  11703748 -0.002878        1.0       2.0  1586.0  34001625.0   \n",
       "28282  13899266  0.166119        1.0       2.0   902.0  33427590.0   \n",
       "\n",
       "         longitude  lotsizesquarefeet  fireplace  deck  pool  garage  hottub  \\\n",
       "46729 -118517058.0             7148.0        0.0   0.0   0.0     0.0     0.0   \n",
       "47582 -117879618.0             6716.0        0.0   0.0   1.0     2.0     0.0   \n",
       "32610 -118045155.0             6203.0        0.0   0.0   0.0     2.0     0.0   \n",
       "22180 -118304436.0             5867.0        0.0   0.0   0.0     0.0     0.0   \n",
       "28282 -117617406.0             4600.0        0.0   0.0   0.0     1.0     0.0   \n",
       "\n",
       "       county  2017_age     acres  \n",
       "46729      LA        12  0.164096  \n",
       "47582  Orange        67  0.154178  \n",
       "32610  Orange        53  0.142401  \n",
       "22180      LA       105  0.134688  \n",
       "28282  Orange        57  0.105601  "
      ]
     },
     "execution_count": 7,
     "metadata": {},
     "output_type": "execute_result"
    }
   ],
   "source": [
    "#show the first few rows of the train data\n",
    "train.head()"
   ]
  },
  {
   "cell_type": "markdown",
   "id": "immediate-mirror",
   "metadata": {},
   "source": [
    "## Explore"
   ]
  },
  {
   "cell_type": "markdown",
   "id": "2b06e4e4",
   "metadata": {},
   "source": [
    "### 1. What is the distribution of logerror?"
   ]
  },
  {
   "cell_type": "code",
   "execution_count": 8,
   "id": "5a7a199e",
   "metadata": {
    "scrolled": false
   },
   "outputs": [
    {
     "data": {
      "image/png": "[encoded data removed]",
      "text/plain": [
       "<Figure size 1440x576 with 1 Axes>"
      ]
     },
     "metadata": {},
     "output_type": "display_data"
    }
   ],
   "source": [
    "#set font size\n",
    "sns.set(font_scale=1.5)\n",
    "#set plot style\n",
    "sns.set_style('white')\n",
    "fig, ax = plt.subplots(1,1, figsize=(20,8))\n",
    "\n",
    "sns.histplot(train.logerror, kde=True, ax=ax, binwidth=.01, palette='colorblind')\n",
    "ax.set_xlim(-0.5,0.5)\n",
    "# add vertical lines for the mean and median\n",
    "ax.vlines(train.logerror.mean(), 0, 3500, color=\"#de8f05\", label=f'mean logerror - {train.logerror.mean():.2}', linewidth=4)\n",
    "ax.vlines(train.logerror.median(), 0, 3500, color='#0173b2', label=f'median logerror - {train.logerror.median():.2}', linewidth=4)\n",
    "ax.legend()\n",
    "plt.show()"
   ]
  },
  {
   "cell_type": "markdown",
   "id": "14be6b76",
   "metadata": {},
   "source": [
    "**Looks as if logerror is normally distributed** "
   ]
  },
  {
   "cell_type": "markdown",
   "id": "d4968c6b",
   "metadata": {},
   "source": [
    "### 2. Is there a significant relationship between sqft and logerror? "
   ]
  },
  {
   "cell_type": "code",
   "execution_count": 9,
   "id": "cb654918",
   "metadata": {},
   "outputs": [
    {
     "data": {
      "image/png": "[encoded data removed]",
      "text/plain": [
       "<Figure size 720x576 with 1 Axes>"
      ]
     },
     "metadata": {},
     "output_type": "display_data"
    }
   ],
   "source": [
    "#set font size\n",
    "sns.set(font_scale=1.5)\n",
    "#set plot style\n",
    "sns.set_style('white')\n",
    "\n",
    "#make plot\n",
    "fig, ax = plt.subplots(1,1, figsize=(10,8))\n",
    "sns.regplot('sqft', 'logerror', data=train, scatter_kws={\"color\":\"#0173b2\"}, line_kws={\"color\": \"#de8f05\"})\n",
    "ax.set_title(\"Square Footage Compared with logerror\")\n",
    "ax.set_xlabel(\"Square Feet\")\n",
    "ax.set_ylabel(\"logerror\")\n",
    "plt.show()"
   ]
  },
  {
   "cell_type": "markdown",
   "id": "397c7299",
   "metadata": {},
   "source": [
    "**It looks like there is a linear correlation between bath_bed_ratio and home value *AND a pesky outlier***"
   ]
  },
  {
   "cell_type": "markdown",
   "id": "45acc229",
   "metadata": {},
   "source": [
    "**Set Hypothesis**\n",
    "\n",
    "$H_0$ = There is no linear correlation between sqft and logerror \n",
    "\n",
    "$H_a$ = There is a linear correlation between sqft and logerror "
   ]
  },
  {
   "cell_type": "code",
   "execution_count": 10,
   "id": "64ce7440",
   "metadata": {},
   "outputs": [
    {
     "name": "stdout",
     "output_type": "stream",
     "text": [
      "Correlation Coefficient: 0.079\n",
      "p-value: 9.264e-48\n"
     ]
    }
   ],
   "source": [
    " #run spearman test to see if there is any linear correlation\n",
    "corr, p = stats.spearmanr(train.sqft, train.logerror)\n",
    "\n",
    "#print results\n",
    "print(f\"Correlation Coefficient: {corr:.2}\\np-value: {p:.4}\")"
   ]
  },
  {
   "cell_type": "markdown",
   "id": "81554949",
   "metadata": {},
   "source": [
    "**p < alpha, so we can reject the null hypothesis and say there is probably a a linear correlation between square footage and logerror.** "
   ]
  },
  {
   "cell_type": "markdown",
   "id": "c85e2983",
   "metadata": {},
   "source": [
    "## 3. Does location have a relationship with home value?"
   ]
  },
  {
   "cell_type": "code",
   "execution_count": 11,
   "id": "98af3b31",
   "metadata": {},
   "outputs": [
    {
     "data": {
      "image/png": "[encoded data removed]",
      "text/plain": [
       "<Figure size 720x576 with 1 Axes>"
      ]
     },
     "metadata": {},
     "output_type": "display_data"
    }
   ],
   "source": [
    "#make plot\n",
    "fig, ax = plt.subplots(1,1, figsize=(10,8))\n",
    "sns.boxplot(data = train, x = 'county', y = 'logerror', palette='colorblind', ax=ax)\n",
    "ax.set_title('Home Value by County')\n",
    "ax.set_xlabel('County')\n",
    "ax.set_ylabel('Home Value (millions of dollars)')\n",
    "ax.set_ylim(-.3,.3)\n",
    "plt.show()"
   ]
  },
  {
   "cell_type": "markdown",
   "id": "621dbe35",
   "metadata": {},
   "source": [
    "**It looks like there is a difference in home values in each county.**"
   ]
  },
  {
   "cell_type": "markdown",
   "id": "aad81067",
   "metadata": {},
   "source": [
    "$H_0$ = Average logerror of those in LA county, Orange county and Ventura county are the same.\n",
    "\n",
    "$H_a$ = Average logerror of those in LA county, Orange county and Ventura county are not the same."
   ]
  },
  {
   "cell_type": "code",
   "execution_count": 12,
   "id": "1f6a4d48",
   "metadata": {},
   "outputs": [
    {
     "name": "stdout",
     "output_type": "stream",
     "text": [
      "F-score: 40.504427\n",
      "p-value: 1.602e-09\n"
     ]
    }
   ],
   "source": [
    "#splitting data into a df per county:\n",
    "la = train[train.county == 'LA'].logerror\n",
    "orange = train[train.county == 'Orange'].logerror\n",
    "ventura = train[train.county == 'Ventura'].logerror\n",
    "\n",
    "#Running a one-way ANOVA (there is a single independent variable - 'county'):\n",
    "f, p = stats.kruskal(la, orange, ventura)\n",
    "\n",
    "#print results\n",
    "print(f\"F-score: {f:.8}\\np-value: {p:.4}\")"
   ]
  },
  {
   "cell_type": "markdown",
   "id": "20b67a47",
   "metadata": {},
   "source": [
    "**Since p < alpha we can reject the null hypothesis and say Average logerror of those in LA county, Orange county and Ventura county are not the same.**"
   ]
  },
  {
   "cell_type": "markdown",
   "id": "b20e7292",
   "metadata": {},
   "source": [
    "## 4. Is there a significant relationship between age of the home and home value?"
   ]
  },
  {
   "cell_type": "code",
   "execution_count": null,
   "id": "22b34a5d",
   "metadata": {},
   "outputs": [],
   "source": []
  },
  {
   "cell_type": "markdown",
   "id": "4ac72c27",
   "metadata": {},
   "source": [
    "**It looks like there is a linear correlation between ?????? and logerror**"
   ]
  },
  {
   "cell_type": "markdown",
   "id": "cf686f21",
   "metadata": {},
   "source": [
    "**Set Hypothesis**\n",
    "\n",
    "$H_0$ = There is no linear correlation between ?????? and logerror \n",
    "\n",
    "$H_a$ = There is a linear correlation between ?????? and logerror"
   ]
  },
  {
   "cell_type": "code",
   "execution_count": 13,
   "id": "9ec504a9",
   "metadata": {},
   "outputs": [],
   "source": [
    "#run spearmanr test and show results\n",
    "#e.age_spearmanr(train)"
   ]
  },
  {
   "cell_type": "markdown",
   "id": "558d96fa",
   "metadata": {},
   "source": [
    "**p < alpha, so we can reject the null hypothesis and say there is probably a a linear correlation between 2017_age and home value.** "
   ]
  },
  {
   "cell_type": "markdown",
   "id": "iraqi-sellers",
   "metadata": {},
   "source": [
    "### Exploration Summary\n",
    "* ```square_feet``` has the highest correlation coefficient so I will use it in my model.\n",
    "* ```bed_bath_ratio```, ```2017_age```, and ```county``` all show a relationship with home value so I will also take them to my model."
   ]
  },
  {
   "cell_type": "markdown",
   "id": "bee611a0",
   "metadata": {},
   "source": [
    "### Features I'm moving on with\n",
    "| Feature | Reason | \n",
    "|:--------|:-----------|\n",
    "|**square_feet**| From our Spearman's test we saw that the correlation coefficient is 0.48 between ```square_feet``` and ```home_value```|\n",
    "|**bath_bed_ratio**| From our Spearman's test we saw that the correlation coefficient is 0.32 between ```bath_bed_ratio``` and ```home_value```|\n",
    "|**2017_age**| From our Spearman's test we saw that the correlation coefficient is 0.27 between ```2017_age``` and ```home_value```|\n",
    "|**county**| From our ANOVA test we see that there is a difference between the home values in each county|"
   ]
  },
  {
   "cell_type": "code",
   "execution_count": 14,
   "id": "1e3b5f83",
   "metadata": {},
   "outputs": [],
   "source": [
    "#save drivers into a list\n",
    "drivers = ['sqft', '2017_age', 'county']"
   ]
  },
  {
   "cell_type": "markdown",
   "id": "8a419e13",
   "metadata": {},
   "source": [
    "### Features I'm not moving on with\n",
    "\n",
    "| Feature | Reason \n",
    "|:--------|:-----------\n",
    "|**parcelid**| id number that is not needed in the model\n",
    "| **bathroooms** | Represented in the ```bath_bed_ratio``` so it would be redundant.\n",
    "| **bedrooms** | Represented in the ```bath_bed_ratio``` so it would be redundant.\n",
    "|**year_built**| Represented in the ```2017_age``` so it would be redundant."
   ]
  },
  {
   "cell_type": "markdown",
   "id": "minus-tulsa",
   "metadata": {},
   "source": [
    "# Modeling"
   ]
  },
  {
   "cell_type": "markdown",
   "id": "emotional-purchase",
   "metadata": {},
   "source": [
    "### Prep for modeling\n",
    "* I scaled the drivers using the minmax scaler\n",
    "* Split the data into where ```home_value``` is the target variable"
   ]
  },
  {
   "cell_type": "code",
   "execution_count": 15,
   "id": "24840c3e",
   "metadata": {},
   "outputs": [],
   "source": [
    "#prepare data for modeling\n",
    "X_train, y_train, X_validate, y_validate, X_test, y_test = w.prep_for_model(train, validate, test, 'logerror', drivers)"
   ]
  },
  {
   "cell_type": "markdown",
   "id": "4c5cec5c",
   "metadata": {},
   "source": [
    "### Baseline models\n",
    "* Looked at both using mean and median as a baseline model.\n",
    "* Mean baseline performed better on the in-sample and out-of sample data SO I went with mean."
   ]
  },
  {
   "cell_type": "code",
   "execution_count": 18,
   "id": "a9bf6669",
   "metadata": {},
   "outputs": [],
   "source": [
    "import sklearn.metrics as metric\n",
    "\n",
    "def baseline_models(y_train, y_validate):\n",
    "    '''\n",
    "    Takes in y_train and y_validate and returns a df of \n",
    "    baseline_mean and baseline_median and how they perform\n",
    "    '''\n",
    "    train_predictions = pd.DataFrame(y_train)\n",
    "    validate_predictions = pd.DataFrame(y_validate)\n",
    "    \n",
    "    y_pred_mean = y_train.mean()\n",
    "    train_predictions['y_pred_mean'] = y_pred_mean\n",
    "    validate_predictions['y_pred_mean'] = y_pred_mean\n",
    "    \n",
    "    y_pred_median = y_train.median()\n",
    "    train_predictions['y_pred_median'] = y_pred_median\n",
    "    validate_predictions['y_pred_median'] = y_pred_median\n",
    "\n",
    "    # create the metric_df as a blank dataframe\n",
    "    metric_df = pd.DataFrame(data=[\n",
    "    {\n",
    "        'model': 'mean_baseline', \n",
    "        'RMSE_train': metric.mean_squared_error(\n",
    "            y_train,\n",
    "            train_predictions['y_pred_mean']) ** .5,\n",
    "        'RMSE_validate': metric.mean_squared_error(\n",
    "            y_validate,\n",
    "            validate_predictions['y_pred_mean']) ** .5,\n",
    "        'Difference': (( metric.mean_squared_error(\n",
    "            y_train,\n",
    "            train_predictions['y_pred_mean']) ** .5)-(metric.mean_squared_error(\n",
    "            y_validate,\n",
    "            validate_predictions['y_pred_mean']) ** .5))\n",
    "    }])\n",
    "\n",
    "    return metric_df.append(\n",
    "            {\n",
    "                'model': 'median_baseline', \n",
    "                'RMSE_train': metric.mean_squared_error(\n",
    "                    y_train,\n",
    "                    train_predictions['y_pred_median']) ** .5,\n",
    "                'RMSE_validate': metric.mean_squared_error(\n",
    "                    y_validate,\n",
    "                    validate_predictions['y_pred_median']) ** .5,\n",
    "                'Difference': (( metric.mean_squared_error(\n",
    "                    y_train,\n",
    "                    train_predictions['y_pred_median']) ** .5)-(metric.mean_squared_error(\n",
    "                    y_validate,\n",
    "                    validate_predictions['y_pred_median']) ** .5))\n",
    "            }, ignore_index=True)"
   ]
  },
  {
   "cell_type": "code",
   "execution_count": 19,
   "id": "3dcdab37",
   "metadata": {},
   "outputs": [
    {
     "data": {
      "text/html": [
       "<div>\n",
       "<style scoped>\n",
       "    .dataframe tbody tr th:only-of-type {\n",
       "        vertical-align: middle;\n",
       "    }\n",
       "\n",
       "    .dataframe tbody tr th {\n",
       "        vertical-align: top;\n",
       "    }\n",
       "\n",
       "    .dataframe thead th {\n",
       "        text-align: right;\n",
       "    }\n",
       "</style>\n",
       "<table border=\"1\" class=\"dataframe\">\n",
       "  <thead>\n",
       "    <tr style=\"text-align: right;\">\n",
       "      <th></th>\n",
       "      <th>model</th>\n",
       "      <th>RMSE_train</th>\n",
       "      <th>RMSE_validate</th>\n",
       "      <th>Difference</th>\n",
       "    </tr>\n",
       "  </thead>\n",
       "  <tbody>\n",
       "    <tr>\n",
       "      <th>0</th>\n",
       "      <td>mean_baseline</td>\n",
       "      <td>0.174556</td>\n",
       "      <td>0.18238</td>\n",
       "      <td>-0.007824</td>\n",
       "    </tr>\n",
       "    <tr>\n",
       "      <th>1</th>\n",
       "      <td>median_baseline</td>\n",
       "      <td>0.174886</td>\n",
       "      <td>0.18275</td>\n",
       "      <td>-0.007864</td>\n",
       "    </tr>\n",
       "  </tbody>\n",
       "</table>\n",
       "</div>"
      ],
      "text/plain": [
       "             model  RMSE_train  RMSE_validate  Difference\n",
       "0    mean_baseline    0.174556        0.18238   -0.007824\n",
       "1  median_baseline    0.174886        0.18275   -0.007864"
      ]
     },
     "execution_count": 19,
     "metadata": {},
     "output_type": "execute_result"
    }
   ],
   "source": [
    "baseline_models(y_train, y_validate)"
   ]
  },
  {
   "cell_type": "markdown",
   "id": "0387b5eb",
   "metadata": {},
   "source": [
    "### Model Comparison"
   ]
  },
  {
   "cell_type": "code",
   "execution_count": null,
   "id": "bfaad81d",
   "metadata": {},
   "outputs": [],
   "source": [
    "#run and compare models\n",
    "#m.regression_models(X_train, y_train, X_validate, y_validate)"
   ]
  },
  {
   "cell_type": "markdown",
   "id": "bright-evans",
   "metadata": {},
   "source": [
    "### Comparing Models\n",
    "* All models perfomed better than baseline for both train and validate data.\n",
    "* It was interesting that OLS Regressor and Lasso Lars both performed better on the out-of-sample data."
   ]
  },
  {
   "cell_type": "markdown",
   "id": "regulated-fellowship",
   "metadata": {},
   "source": [
    "### Best model: Random Forest Model \n",
    "* I chose the XXX (XXXXXXXXXX) because the difference in $RMSE$ between the train and validate was around  and they were both higher than the other models\n",
    "* I will now run the that model on test data to gauge how it will perform on future data"
   ]
  },
  {
   "cell_type": "code",
   "execution_count": null,
   "id": "4fac6a92",
   "metadata": {},
   "outputs": [],
   "source": [
    "#m.best_model(X_train, y_train, X_validate, y_validate, X_test, y_test)"
   ]
  },
  {
   "cell_type": "markdown",
   "id": "fc24d1d6",
   "metadata": {},
   "source": [
    "**This model performs better than baseline and with very similar accuracy across all three data sets (train, validate and test).**"
   ]
  },
  {
   "cell_type": "markdown",
   "id": "tutorial-twelve",
   "metadata": {},
   "source": [
    "## Conclusion\n",
    "\n",
    "### Summary\n",
    "*\n",
    "\n",
    "\n",
    "### Recommendations\n",
    "* We should do more research .\n",
    "* .\n",
    "\n",
    "### Next Steps\n",
    "* In the next iteration:\n",
    "    * "
   ]
  }
 ],
 "metadata": {
  "kernelspec": {
   "display_name": "Python 3 (ipykernel)",
   "language": "python",
   "name": "python3"
  },
  "language_info": {
   "codemirror_mode": {
    "name": "ipython",
    "version": 3
   },
   "file_extension": ".py",
   "mimetype": "text/x-python",
   "name": "python",
   "nbconvert_exporter": "python",
   "pygments_lexer": "ipython3",
   "version": "3.9.12"
  }
 },
 "nbformat": 4,
 "nbformat_minor": 5
}
